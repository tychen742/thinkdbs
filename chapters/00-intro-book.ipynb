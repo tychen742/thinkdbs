{
 "cells": [
  {
   "cell_type": "markdown",
   "id": "407362f0",
   "metadata": {},
   "source": [
    "# Database System"
   ]
  },
  {
   "cell_type": "markdown",
   "id": "1f6fda8e",
   "metadata": {},
   "source": []
  }
 ],
 "metadata": {
  "language_info": {
   "name": "python"
  }
 },
 "nbformat": 4,
 "nbformat_minor": 5
}
