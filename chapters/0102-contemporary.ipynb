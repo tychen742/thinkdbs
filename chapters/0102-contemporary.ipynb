{
 "cells": [
  {
   "cell_type": "markdown",
   "id": "ec64dc23",
   "metadata": {},
   "source": [
    "# Data and Information Systems"
   ]
  },
  {
   "cell_type": "markdown",
   "id": "dca3a045",
   "metadata": {},
   "source": []
  }
 ],
 "metadata": {
  "language_info": {
   "name": "python"
  }
 },
 "nbformat": 4,
 "nbformat_minor": 5
}
