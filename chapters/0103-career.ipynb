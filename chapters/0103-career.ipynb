{
 "cells": [
  {
   "cell_type": "markdown",
   "id": "8df12f95",
   "metadata": {},
   "source": [
    "# Career"
   ]
  },
  {
   "cell_type": "markdown",
   "id": "5d239803",
   "metadata": {},
   "source": []
  }
 ],
 "metadata": {
  "language_info": {
   "name": "python"
  }
 },
 "nbformat": 4,
 "nbformat_minor": 5
}
